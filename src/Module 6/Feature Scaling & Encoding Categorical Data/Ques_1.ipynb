{
 "cells": [
  {
   "cell_type": "code",
   "execution_count": 2,
   "metadata": {},
   "outputs": [
    {
     "name": "stdout",
     "output_type": "stream",
     "text": [
      "----- Question 1: Why Feature Scaling is Essential -----\n",
      "\n",
      "Feature scaling ensures that features contribute equally to model training.\n",
      "Without scaling, features with larger magnitudes can dominate distance-based algorithms (e.g., KNN, SVM).\n",
      "It also improves gradient descent convergence and overall model performance.\n",
      "\n",
      "Accuracy without scaling: 1.0000\n",
      "Accuracy with Min-Max Scaling: 0.9111\n",
      "Accuracy with Standardization: 1.0000\n",
      "Accuracy with Robust Scaling: 0.9778\n"
     ]
    }
   ],
   "source": [
    "import pandas as pd\n",
    "import numpy as np\n",
    "from sklearn.datasets import load_iris\n",
    "from sklearn.model_selection import train_test_split\n",
    "from sklearn.linear_model import LogisticRegression\n",
    "from sklearn.preprocessing import MinMaxScaler, StandardScaler, RobustScaler\n",
    "from sklearn.metrics import accuracy_score\n",
    "\n",
    "# Load Iris dataset\n",
    "iris = load_iris()\n",
    "X = pd.DataFrame(iris.data, columns=iris.feature_names)\n",
    "y = iris.target\n",
    "\n",
    "print(\"----- Question 1: Why Feature Scaling is Essential -----\")\n",
    "print(\"\"\"\n",
    "Feature scaling ensures that features contribute equally to model training.\n",
    "Without scaling, features with larger magnitudes can dominate distance-based algorithms (e.g., KNN, SVM).\n",
    "It also improves gradient descent convergence and overall model performance.\n",
    "\"\"\")\n",
    "\n",
    "# Demonstrating effect of unscaled features\n",
    "X_train_raw, X_test_raw, y_train, y_test = train_test_split(X, y, test_size=0.3, random_state=42)\n",
    "model_unscaled = LogisticRegression(max_iter=200)\n",
    "model_unscaled.fit(X_train_raw, y_train)\n",
    "pred_unscaled = model_unscaled.predict(X_test_raw)\n",
    "print(f\"Accuracy without scaling: {accuracy_score(y_test, pred_unscaled):.4f}\")\n",
    "\n",
    "# Question 2: Min-Max Scaling\n",
    "scaler_minmax = MinMaxScaler()\n",
    "X_minmax = scaler_minmax.fit_transform(X)\n",
    "X_train_mm, X_test_mm, _, _ = train_test_split(X_minmax, y, test_size=0.3, random_state=42)\n",
    "model_mm = LogisticRegression(max_iter=200)\n",
    "model_mm.fit(X_train_mm, y_train)\n",
    "pred_mm = model_mm.predict(X_test_mm)\n",
    "print(f\"Accuracy with Min-Max Scaling: {accuracy_score(y_test, pred_mm):.4f}\")\n",
    "\n",
    "# Question 3: Standardization (Z-score)\n",
    "scaler_std = StandardScaler()\n",
    "X_std = scaler_std.fit_transform(X)\n",
    "X_train_std, X_test_std, _, _ = train_test_split(X_std, y, test_size=0.3, random_state=42)\n",
    "model_std = LogisticRegression(max_iter=200)\n",
    "model_std.fit(X_train_std, y_train)\n",
    "pred_std = model_std.predict(X_test_std)\n",
    "print(f\"Accuracy with Standardization: {accuracy_score(y_test, pred_std):.4f}\")\n",
    "\n",
    "# Question 4: Robust Scaling\n",
    "scaler_robust = RobustScaler()\n",
    "X_robust = scaler_robust.fit_transform(X)\n",
    "X_train_rb, X_test_rb, _, _ = train_test_split(X_robust, y, test_size=0.3, random_state=42)\n",
    "model_rb = LogisticRegression(max_iter=200)\n",
    "model_rb.fit(X_train_rb, y_train)\n",
    "pred_rb = model_rb.predict(X_test_rb)\n",
    "print(f\"Accuracy with Robust Scaling: {accuracy_score(y_test, pred_rb):.4f}\")\n"
   ]
  }
 ],
 "metadata": {
  "kernelspec": {
   "display_name": "Python 3",
   "language": "python",
   "name": "python3"
  },
  "language_info": {
   "codemirror_mode": {
    "name": "ipython",
    "version": 3
   },
   "file_extension": ".py",
   "mimetype": "text/x-python",
   "name": "python",
   "nbconvert_exporter": "python",
   "pygments_lexer": "ipython3",
   "version": "3.10.12"
  }
 },
 "nbformat": 4,
 "nbformat_minor": 2
}
