{
 "cells": [
  {
   "cell_type": "markdown",
   "metadata": {},
   "source": [
    "    Task: Complete Pipeline for a Dataset\n",
    "1. Objective: Build a complex pipeline with multiple transformations.\n",
    "2. Steps:\n",
    "    - Load a sample dataset.\n",
    "    - Define a transformation pipeline with both imputation and scaling."
   ]
  },
  {
   "cell_type": "code",
   "execution_count": 3,
   "metadata": {},
   "outputs": [
    {
     "name": "stdout",
     "output_type": "stream",
     "text": [
      "Transformed Data after Imputation and Scaling:\n",
      "        Age    Salary  Experience\n",
      "0 -0.542001 -1.355815   -1.533930\n",
      "1  0.000000  1.355815   -0.383482\n",
      "2  1.780860  0.000000    0.383482\n",
      "3 -1.238859 -0.813489    0.000000\n",
      "4  0.000000  0.813489    1.533930\n"
     ]
    }
   ],
   "source": [
    "import pandas as pd\n",
    "import numpy as np\n",
    "from sklearn.impute import SimpleImputer\n",
    "from sklearn.preprocessing import StandardScaler\n",
    "from sklearn.pipeline import Pipeline\n",
    "\n",
    "# Sample dataset with missing values\n",
    "data = {\n",
    "    'Age': [25, np.nan, 35, 22, np.nan],\n",
    "    'Salary': [50000, 60000, np.nan, 52000, 58000],\n",
    "    'Experience': [2, 5, 7, np.nan, 10]\n",
    "}\n",
    "df = pd.DataFrame(data)\n",
    "\n",
    "# 1. Imputation Function\n",
    "def imputation_function(data, strategy='mean'):\n",
    "    imputer = SimpleImputer(strategy=strategy)\n",
    "    return imputer.fit_transform(data)\n",
    "\n",
    "# 2. Scaling Function\n",
    "def scaling_function(data):\n",
    "    scaler = StandardScaler()\n",
    "    return scaler.fit_transform(data)\n",
    "\n",
    "# 3. Combined Transformation Function (Imputation + Scaling)\n",
    "def combined_transformation_function(data, strategy='mean'):\n",
    "    # Impute missing values first\n",
    "    imputed_data = imputation_function(data, strategy)\n",
    "    # Scale the data\n",
    "    scaled_data = scaling_function(imputed_data)\n",
    "    return scaled_data\n",
    "\n",
    "# Apply transformations to the dataset\n",
    "transformed_data = combined_transformation_function(df)\n",
    "\n",
    "# Convert the result to DataFrame for better readability\n",
    "transformed_df = pd.DataFrame(transformed_data, columns=df.columns)\n",
    "print(\"Transformed Data after Imputation and Scaling:\")\n",
    "print(transformed_df)\n"
   ]
  },
  {
   "cell_type": "code",
   "execution_count": 4,
   "metadata": {},
   "outputs": [
    {
     "name": "stdout",
     "output_type": "stream",
     "text": [
      "Transformed Data after Imputation and Scaling:\n",
      "        Age    Salary  Experience\n",
      "0 -0.542001 -1.355815   -1.533930\n",
      "1  0.000000  1.355815   -0.383482\n",
      "2  1.780860  0.000000    0.383482\n",
      "3 -1.238859 -0.813489    0.000000\n",
      "4  0.000000  0.813489    1.533930\n"
     ]
    }
   ],
   "source": [
    "import pandas as pd\n",
    "import numpy as np\n",
    "from sklearn.impute import SimpleImputer\n",
    "from sklearn.preprocessing import StandardScaler\n",
    "from sklearn.pipeline import Pipeline\n",
    "\n",
    "# Sample dataset with missing values\n",
    "data = {\n",
    "    'Age': [25, np.nan, 35, 22, np.nan],\n",
    "    'Salary': [50000, 60000, np.nan, 52000, 58000],\n",
    "    'Experience': [2, 5, 7, np.nan, 10]\n",
    "}\n",
    "df = pd.DataFrame(data)\n",
    "\n",
    "# 1. Imputation Function\n",
    "def imputation_function(data, strategy='mean'):\n",
    "    imputer = SimpleImputer(strategy=strategy)\n",
    "    return imputer.fit_transform(data)\n",
    "\n",
    "# 2. Scaling Function\n",
    "def scaling_function(data):\n",
    "    scaler = StandardScaler()\n",
    "    return scaler.fit_transform(data)\n",
    "\n",
    "# 3. Combined Transformation Function (Imputation + Scaling)\n",
    "def combined_transformation_function(data, strategy='mean'):\n",
    "    # Impute missing values first\n",
    "    imputed_data = imputation_function(data, strategy)\n",
    "    # Scale the data\n",
    "    scaled_data = scaling_function(imputed_data)\n",
    "    return scaled_data\n",
    "\n",
    "# Apply transformations to the dataset\n",
    "transformed_data = combined_transformation_function(df)\n",
    "\n",
    "# Convert the result to DataFrame for better readability\n",
    "transformed_df = pd.DataFrame(transformed_data, columns=df.columns)\n",
    "print(\"Transformed Data after Imputation and Scaling:\")\n",
    "print(transformed_df)\n"
   ]
  }
 ],
 "metadata": {
  "kernelspec": {
   "display_name": "Python 3",
   "language": "python",
   "name": "python3"
  },
  "language_info": {
   "codemirror_mode": {
    "name": "ipython",
    "version": 3
   },
   "file_extension": ".py",
   "mimetype": "text/x-python",
   "name": "python",
   "nbconvert_exporter": "python",
   "pygments_lexer": "ipython3",
   "version": "3.10.12"
  }
 },
 "nbformat": 4,
 "nbformat_minor": 2
}
