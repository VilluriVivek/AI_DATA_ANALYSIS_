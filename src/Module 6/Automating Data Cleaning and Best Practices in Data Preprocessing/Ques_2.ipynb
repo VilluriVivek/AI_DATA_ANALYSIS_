{
 "cells": [
  {
   "cell_type": "markdown",
   "metadata": {},
   "source": [
    "    Task: Complete Pipeline for a Dataset\n",
    "1. Objective: Build a complex pipeline with multiple transformations.\n",
    "2. Steps:\n",
    "    - Load a sample dataset.\n",
    "    - Define a transformation pipeline with both imputation and scaling."
   ]
  },
  {
   "cell_type": "code",
   "execution_count": 1,
   "metadata": {},
   "outputs": [
    {
     "name": "stdout",
     "output_type": "stream",
     "text": [
      "Original Data:\n",
      "    Age   Salary  Experience\n",
      "0  25.0  50000.0         2.0\n",
      "1   NaN  60000.0         5.0\n",
      "2  35.0      NaN         7.0\n",
      "3  22.0  52000.0         NaN\n",
      "4   NaN  58000.0        10.0\n",
      "\n",
      "Transformed Data:\n",
      "        Age    Salary  Experience\n",
      "0 -0.542001 -1.355815   -1.533930\n",
      "1  0.000000  1.355815   -0.383482\n",
      "2  1.780860  0.000000    0.383482\n",
      "3 -1.238859 -0.813489    0.000000\n",
      "4  0.000000  0.813489    1.533930\n"
     ]
    }
   ],
   "source": [
    "# Write your code from here\n",
    "import pandas as pd\n",
    "import numpy as np\n",
    "from sklearn.pipeline import Pipeline\n",
    "from sklearn.impute import SimpleImputer\n",
    "from sklearn.preprocessing import StandardScaler\n",
    "from sklearn.compose import ColumnTransformer\n",
    "\n",
    "# Step 1: Create a sample dataset with missing values\n",
    "data = {\n",
    "    'Age': [25, np.nan, 35, 22, np.nan],\n",
    "    'Salary': [50000, 60000, np.nan, 52000, 58000],\n",
    "    'Experience': [2, 5, 7, np.nan, 10]\n",
    "}\n",
    "\n",
    "df = pd.DataFrame(data)\n",
    "print(\"Original Data:\")\n",
    "print(df)\n",
    "\n",
    "# Step 2: Define numerical columns\n",
    "numeric_features = ['Age', 'Salary', 'Experience']\n",
    "\n",
    "# Step 3: Define transformation pipeline\n",
    "numeric_transformer = Pipeline(steps=[\n",
    "    ('imputer', SimpleImputer(strategy='mean')),     # Impute missing values\n",
    "    ('scaler', StandardScaler())                     # Scale the data\n",
    "])\n",
    "\n",
    "# Step 4: Create ColumnTransformer to apply transformations\n",
    "preprocessor = ColumnTransformer(\n",
    "    transformers=[\n",
    "        ('num', numeric_transformer, numeric_features)\n",
    "    ]\n",
    ")\n",
    "\n",
    "# Step 5: Apply the complete pipeline to the dataset\n",
    "df_transformed = preprocessor.fit_transform(df)\n",
    "\n",
    "# Step 6: Convert to DataFrame for readability\n",
    "df_transformed = pd.DataFrame(df_transformed, columns=numeric_features)\n",
    "print(\"\\nTransformed Data:\")\n",
    "print(df_transformed)"
   ]
  },
  {
   "cell_type": "code",
   "execution_count": 2,
   "metadata": {},
   "outputs": [
    {
     "name": "stdout",
     "output_type": "stream",
     "text": [
      "Transformed Data after Imputation and Scaling:\n",
      "        Age    Salary  Experience\n",
      "0 -0.542001 -1.355815   -1.533930\n",
      "1  0.000000  1.355815   -0.383482\n",
      "2  1.780860  0.000000    0.383482\n",
      "3 -1.238859 -0.813489    0.000000\n",
      "4  0.000000  0.813489    1.533930\n"
     ]
    }
   ],
   "source": [
    "import pandas as pd\n",
    "import numpy as np\n",
    "from sklearn.impute import SimpleImputer\n",
    "from sklearn.preprocessing import StandardScaler\n",
    "from sklearn.pipeline import Pipeline\n",
    "\n",
    "# Sample dataset with missing values\n",
    "data = {\n",
    "    'Age': [25, np.nan, 35, 22, np.nan],\n",
    "    'Salary': [50000, 60000, np.nan, 52000, 58000],\n",
    "    'Experience': [2, 5, 7, np.nan, 10]\n",
    "}\n",
    "df = pd.DataFrame(data)\n",
    "\n",
    "# 1. Imputation Function\n",
    "def imputation_function(data, strategy='mean'):\n",
    "    imputer = SimpleImputer(strategy=strategy)\n",
    "    return imputer.fit_transform(data)\n",
    "\n",
    "# 2. Scaling Function\n",
    "def scaling_function(data):\n",
    "    scaler = StandardScaler()\n",
    "    return scaler.fit_transform(data)\n",
    "\n",
    "# 3. Combined Transformation Function (Imputation + Scaling)\n",
    "def combined_transformation_function(data, strategy='mean'):\n",
    "    # Impute missing values first\n",
    "    imputed_data = imputation_function(data, strategy)\n",
    "    # Scale the data\n",
    "    scaled_data = scaling_function(imputed_data)\n",
    "    return scaled_data\n",
    "\n",
    "# Apply transformations to the dataset\n",
    "transformed_data = combined_transformation_function(df)\n",
    "\n",
    "# Convert the result to DataFrame for better readability\n",
    "transformed_df = pd.DataFrame(transformed_data, columns=df.columns)\n",
    "print(\"Transformed Data after Imputation and Scaling:\")\n",
    "print(transformed_df)\n"
   ]
  }
 ],
 "metadata": {
  "kernelspec": {
   "display_name": "Python 3",
   "language": "python",
   "name": "python3"
  },
  "language_info": {
   "codemirror_mode": {
    "name": "ipython",
    "version": 3
   },
   "file_extension": ".py",
   "mimetype": "text/x-python",
   "name": "python",
   "nbconvert_exporter": "python",
   "pygments_lexer": "ipython3",
   "version": "3.10.12"
  }
 },
 "nbformat": 4,
 "nbformat_minor": 2
}
