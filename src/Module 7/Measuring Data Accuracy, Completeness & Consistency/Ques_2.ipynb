{
 "cells": [
  {
   "cell_type": "markdown",
   "metadata": {},
   "source": [
    "## Find Conflicting Values Across Datasets\n",
    "\n",
    "**Description**: You have two datasets: `crm_customers.csv` and `erp_customers.csv` . Find customers with conflicting \"email\" information."
   ]
  },
  {
   "cell_type": "code",
   "execution_count": 1,
   "metadata": {},
   "outputs": [
    {
     "name": "stdout",
     "output_type": "stream",
     "text": [
      "Customers with conflicting email information:\n",
      " customer_id         email_crm  name          email_erp  address\n",
      "           2   bob@example.com   Bob robert@example.com Address2\n",
      "           4 david@example.com David  david@example.org Address4\n"
     ]
    }
   ],
   "source": [
    "import pandas as pd\n",
    "\n",
    "def find_conflicting_emails(crm_file, erp_file, customer_id_col=\"customer_id\", email_col=\"email\"):\n",
    "    \"\"\"\n",
    "    Finds customers with conflicting email information across two datasets.\n",
    "\n",
    "    Args:\n",
    "        crm_file (str): Path to the CSV file containing CRM customer data.\n",
    "        erp_file (str): Path to the CSV file containing ERP customer data.\n",
    "        customer_id_col (str, optional): Name of the customer ID column. Defaults to \"customer_id\".\n",
    "        email_col (str, optional): Name of the email column. Defaults to \"email\".\n",
    "\n",
    "    Returns:\n",
    "        pandas.DataFrame: A DataFrame containing customers with conflicting emails,\n",
    "                          or an empty DataFrame if no conflicts are found.\n",
    "                          Returns None if there are errors.\n",
    "    \"\"\"\n",
    "    try:\n",
    "        # Read the CSV files into Pandas DataFrames\n",
    "        crm_df = pd.read_csv(crm_file)\n",
    "        erp_df = pd.read_csv(erp_file)\n",
    "    except FileNotFoundError as e:\n",
    "        print(f\"Error: {e}\")\n",
    "        return None\n",
    "\n",
    "    # Check if the required columns exist in both DataFrames\n",
    "    if customer_id_col not in crm_df.columns or email_col not in crm_df.columns:\n",
    "        print(f\"Error: Missing required columns in CRM file. Expected '{customer_id_col}' and '{email_col}'.\")\n",
    "        return None\n",
    "    if customer_id_col not in erp_df.columns or email_col not in erp_df.columns:\n",
    "        print(f\"Error: Missing required columns in ERP file. Expected '{customer_id_col}' and '{email_col}'.\")\n",
    "        return None\n",
    "\n",
    "    # Merge the DataFrames on the customer ID\n",
    "    merged_df = pd.merge(crm_df, erp_df, on=customer_id_col, suffixes=('_crm', '_erp'))\n",
    "\n",
    "    # Find rows where emails do not match\n",
    "    conflicting_emails_df = merged_df[merged_df[f'{email_col}_crm'] != merged_df[f'{email_col}_erp']]\n",
    "\n",
    "    return conflicting_emails_df\n",
    "\n",
    "\n",
    "\n",
    "def main():\n",
    "    \"\"\"\n",
    "    Main function to run the conflicting email check and print the results.\n",
    "    \"\"\"\n",
    "    # Provide the paths to your CSV files\n",
    "    crm_file = 'crm_customers.csv'  # Replace with your actual file path\n",
    "    erp_file = 'erp_customers.csv'  # Replace with your actual file path\n",
    "\n",
    "    # Create dummy CSV files for demonstration\n",
    "    try:\n",
    "        with open(crm_file, 'w') as f:\n",
    "            f.write(\"customer_id,email,name\\n1,alice@example.com,Alice\\n2,bob@example.com,Bob\\n3,charlie@example.com,Charlie\\n4,david@example.com,David\")\n",
    "        with open(erp_file, 'w') as f:\n",
    "            f.write(\"customer_id,email,address\\n1,alice@example.com,Address1\\n2,robert@example.com,Address2\\n3,charlie@example.com,Address3\\n4,david@example.org,Address4\")\n",
    "    except FileExistsError:\n",
    "        pass\n",
    "\n",
    "    # Find conflicting emails\n",
    "    conflicting_emails_df = find_conflicting_emails(crm_file, erp_file)\n",
    "\n",
    "    # Print the results\n",
    "    if conflicting_emails_df is not None:\n",
    "        if not conflicting_emails_df.empty:\n",
    "            print(\"Customers with conflicting email information:\")\n",
    "            print(conflicting_emails_df.to_string(index=False))\n",
    "        else:\n",
    "            print(\"No customers with conflicting email information found.\")\n",
    "    else:\n",
    "        print(\"Error occurred during the email conflict check. Please check the file paths and column names.\")\n",
    "\n",
    "\n",
    "\n",
    "if __name__ == \"__main__\":\n",
    "    main()\n"
   ]
  }
 ],
 "metadata": {
  "kernelspec": {
   "display_name": "Python 3",
   "language": "python",
   "name": "python3"
  },
  "language_info": {
   "codemirror_mode": {
    "name": "ipython",
    "version": 3
   },
   "file_extension": ".py",
   "mimetype": "text/x-python",
   "name": "python",
   "nbconvert_exporter": "python",
   "pygments_lexer": "ipython3",
   "version": "3.10.12"
  }
 },
 "nbformat": 4,
 "nbformat_minor": 2
}
