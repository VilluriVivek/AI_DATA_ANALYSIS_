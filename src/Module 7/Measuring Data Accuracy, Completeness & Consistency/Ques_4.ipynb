{
 "cells": [
  {
   "cell_type": "markdown",
   "metadata": {},
   "source": [
    "## Ensuring Consistency in Multi-source Data Integration\n",
    "\n",
    "**Description**: Validate the integration of two datasets `products_A.csv` and `products_B.csv` . Ensure consistency in product \"category\" information."
   ]
  },
  {
   "cell_type": "code",
   "execution_count": 1,
   "metadata": {},
   "outputs": [
    {
     "name": "stdout",
     "output_type": "stream",
     "text": [
      "Products with inconsistent category information:\n",
      " product_id category_A     name category_B  description\n",
      "          2   Clothing Product2    Apparel Description2\n"
     ]
    }
   ],
   "source": [
    "import pandas as pd\n",
    "\n",
    "def validate_category_consistency(file_a, file_b, product_id_col=\"product_id\", category_col=\"category\"):\n",
    "    \"\"\"\n",
    "    Validates the consistency of product category information between two datasets.\n",
    "\n",
    "    Args:\n",
    "        file_a (str): Path to the CSV file for dataset A.\n",
    "        file_b (str): Path to the CSV file for dataset B.\n",
    "        product_id_col (str, optional): Name of the product ID column. Defaults to \"product_id\".\n",
    "        category_col (str, optional): Name of the category column. Defaults to \"category\".\n",
    "\n",
    "    Returns:\n",
    "        pandas.DataFrame: A DataFrame containing products with inconsistent category information,\n",
    "                          or an empty DataFrame if no inconsistencies are found.\n",
    "                          Returns None if there are errors.\n",
    "    \"\"\"\n",
    "    try:\n",
    "        # Read the CSV files into Pandas DataFrames\n",
    "        df_a = pd.read_csv(file_a)\n",
    "        df_b = pd.read_csv(file_b)\n",
    "    except FileNotFoundError as e:\n",
    "        print(f\"Error: {e}\")\n",
    "        return None\n",
    "    except Exception as e:\n",
    "        print(f\"Error reading CSV file: {e}\")\n",
    "        return None\n",
    "\n",
    "    # Check if the required columns exist in both DataFrames\n",
    "    if product_id_col not in df_a.columns or category_col not in df_a.columns:\n",
    "        print(f\"Error: Missing required columns in file A. Expected '{product_id_col}' and '{category_col}'.\")\n",
    "        return None\n",
    "    if product_id_col not in df_b.columns or category_col not in df_b.columns:\n",
    "        print(f\"Error: Missing required columns in file B. Expected '{product_id_col}' and '{category_col}'.\")\n",
    "        return None\n",
    "\n",
    "    # Merge the DataFrames on product ID\n",
    "    merged_df = pd.merge(df_a, df_b, on=product_id_col, suffixes=('_A', '_B'))\n",
    "\n",
    "    # Find products with inconsistent category information\n",
    "    inconsistent_categories_df = merged_df[merged_df[f'{category_col}_A'] != merged_df[f'{category_col}_B']]\n",
    "\n",
    "    return inconsistent_categories_df\n",
    "\n",
    "\n",
    "\n",
    "def main():\n",
    "    \"\"\"\n",
    "    Main function to run the category consistency validation and print the results.\n",
    "    \"\"\"\n",
    "    # Provide the paths to your CSV files\n",
    "    file_a = 'products_A.csv'  # Replace with your actual file path\n",
    "    file_b = 'products_B.csv'  # Replace with your actual file path\n",
    "\n",
    "    # Create dummy CSV files for demonstration\n",
    "    try:\n",
    "        with open(file_a, 'w') as f:\n",
    "            f.write(\"product_id,category,name\\n1,Electronics,Product1\\n2,Clothing,Product2\\n3,Home Goods,Product3\\n4,Electronics,Product4\")\n",
    "        with open(file_b, 'w') as f:\n",
    "            f.write(\"product_id,category,description\\n1,Electronics,Description1\\n2,Apparel,Description2\\n3,Home Goods,Description3\\n4,Electronics,Description4\")\n",
    "    except FileExistsError:\n",
    "        pass\n",
    "\n",
    "    # Validate category consistency\n",
    "    inconsistent_categories_df = validate_category_consistency(file_a, file_b)\n",
    "\n",
    "    # Print the results\n",
    "    if inconsistent_categories_df is not None:\n",
    "        if not inconsistent_categories_df.empty:\n",
    "            print(\"Products with inconsistent category information:\")\n",
    "            print(inconsistent_categories_df.to_string(index=False))\n",
    "        else:\n",
    "            print(\"No products with inconsistent category information found.\")\n",
    "    else:\n",
    "        print(\"Error occurred during category consistency validation. Please check the file paths and column names.\")\n",
    "\n",
    "\n",
    "\n",
    "if __name__ == \"__main__\":\n",
    "    main()\n"
   ]
  }
 ],
 "metadata": {
  "kernelspec": {
   "display_name": "Python 3",
   "language": "python",
   "name": "python3"
  },
  "language_info": {
   "codemirror_mode": {
    "name": "ipython",
    "version": 3
   },
   "file_extension": ".py",
   "mimetype": "text/x-python",
   "name": "python",
   "nbconvert_exporter": "python",
   "pygments_lexer": "ipython3",
   "version": "3.10.12"
  }
 },
 "nbformat": 4,
 "nbformat_minor": 2
}
