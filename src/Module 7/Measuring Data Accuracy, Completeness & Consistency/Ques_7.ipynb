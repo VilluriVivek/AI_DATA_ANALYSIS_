{
 "cells": [
  {
   "cell_type": "markdown",
   "metadata": {},
   "source": [
    "## Advanced Consistency Check with Hierarchical Data\n",
    "\n",
    "**Description**: You have two datasets `orders.csv` and `order_items.csv` . Perform a consistency check to ensure each order in `orders.csv` has corresponding items in `order_items.csv` ."
   ]
  },
  {
   "cell_type": "code",
   "execution_count": 3,
   "metadata": {},
   "outputs": [
    {
     "name": "stdout",
     "output_type": "stream",
     "text": [
      "Orders with missing items:\n",
      " order_id  customer_id order_date\n",
      "        4          104 2024-02-01\n"
     ]
    }
   ],
   "source": [
    "import pandas as pd\n",
    "import numpy as np  # Import numpy\n",
    "\n",
    "def validate_order_consistency(orders_file, order_items_file, order_id_col=\"order_id\"):\n",
    "    \"\"\"\n",
    "    Validates that each order in the orders file has corresponding items in the order_items file.\n",
    "\n",
    "    Args:\n",
    "        orders_file (str): Path to the CSV file containing order data.\n",
    "        order_items_file (str): Path to the CSV file containing order item data.\n",
    "        order_id_col (str, optional): Name of the order ID column. Defaults to \"order_id\".\n",
    "\n",
    "    Returns:\n",
    "        pandas.DataFrame: A DataFrame containing orders with missing items, or an empty DataFrame\n",
    "                          if all orders have corresponding items. Returns None if errors occur.\n",
    "    \"\"\"\n",
    "    try:\n",
    "        # Read the CSV files into Pandas DataFrames\n",
    "        orders_df = pd.read_csv(orders_file)\n",
    "        order_items_df = pd.read_csv(order_items_file)\n",
    "    except FileNotFoundError as e:\n",
    "        print(f\"Error: {e}\")\n",
    "        return None\n",
    "    except Exception as e:\n",
    "        print(f\"Error reading CSV file: {e}\")\n",
    "        return None\n",
    "\n",
    "    # Check if the order ID column exists in both DataFrames\n",
    "    if order_id_col not in orders_df.columns:\n",
    "        print(f\"Error: Order ID column '{order_id_col}' not found in orders file.\")\n",
    "        return None\n",
    "    if order_id_col not in order_items_df.columns:\n",
    "        print(f\"Error: Order ID column '{order_id_col}' not found in order items file.\")\n",
    "        return None\n",
    "\n",
    "    # Get unique order IDs from both files\n",
    "    orders_ids = orders_df[order_id_col].unique()\n",
    "    order_items_ids = order_items_df[order_id_col].unique()\n",
    "\n",
    "    # Find orders with missing items (orders present in orders_df but not in order_items_df)\n",
    "    orders_missing_items = orders_ids[~np.isin(orders_ids, order_items_ids)]\n",
    "    missing_items_df = orders_df[orders_df[order_id_col].isin(orders_missing_items)]\n",
    "\n",
    "\n",
    "    return missing_items_df\n",
    "\n",
    "\n",
    "\n",
    "def main():\n",
    "    \"\"\"\n",
    "    Main function to run the order consistency validation and print the results.\n",
    "    \"\"\"\n",
    "    # Provide the paths to your CSV files\n",
    "    orders_file = 'orders.csv'  # Replace with your actual file path\n",
    "    order_items_file = 'order_items.csv'  # Replace with your actual file path\n",
    "\n",
    "    # Create dummy CSV files for demonstration\n",
    "    try:\n",
    "        with open(orders_file, 'w') as f:\n",
    "            f.write(\"order_id,customer_id,order_date\\n1,101,2024-01-10\\n2,102,2024-01-15\\n3,103,2024-01-20\\n4,104,2024-02-01\")\n",
    "        with open(order_items_file, 'w') as f:\n",
    "            f.write(\"order_id,item_id,product_id,quantity\\n1,1001,P1,2\\n1,1002,P2,1\\n2,2001,P3,3\\n2,2002,P4,1\\n3,3001,P5,1\") #Order 4 is missing\n",
    "    except FileExistsError:\n",
    "        pass\n",
    "\n",
    "    # Validate order consistency\n",
    "    missing_items_df = validate_order_consistency(orders_file, order_items_file)\n",
    "\n",
    "    # Print the results\n",
    "    if missing_items_df is not None:\n",
    "        if not missing_items_df.empty:\n",
    "            print(\"Orders with missing items:\")\n",
    "            print(missing_items_df.to_string(index=False))\n",
    "        else:\n",
    "            print(\"All orders have corresponding items.\")\n",
    "    else:\n",
    "        print(\"Error occurred during order consistency validation. Please check the file paths and column names.\")\n",
    "\n",
    "\n",
    "\n",
    "if __name__ == \"__main__\":\n",
    "    main()\n"
   ]
  }
 ],
 "metadata": {
  "kernelspec": {
   "display_name": "Python 3",
   "language": "python",
   "name": "python3"
  },
  "language_info": {
   "codemirror_mode": {
    "name": "ipython",
    "version": 3
   },
   "file_extension": ".py",
   "mimetype": "text/x-python",
   "name": "python",
   "nbconvert_exporter": "python",
   "pygments_lexer": "ipython3",
   "version": "3.10.12"
  }
 },
 "nbformat": 4,
 "nbformat_minor": 2
}
