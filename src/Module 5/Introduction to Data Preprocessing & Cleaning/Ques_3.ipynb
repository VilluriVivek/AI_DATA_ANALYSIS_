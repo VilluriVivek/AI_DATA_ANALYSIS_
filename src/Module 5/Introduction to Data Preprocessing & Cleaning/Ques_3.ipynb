{
 "cells": [
  {
   "cell_type": "code",
   "execution_count": 3,
   "metadata": {},
   "outputs": [
    {
     "name": "stdout",
     "output_type": "stream",
     "text": [
      "Original DataFrame:\n",
      "    Age  Salary\n",
      "0    25   50000\n",
      "1    30   60000\n",
      "2    35   70000\n",
      "3    40   80000\n",
      "4    45   90000\n",
      "5    50  100000\n",
      "6    55  110000\n",
      "7    60  120000\n",
      "8    65  130000\n",
      "9  1000  140000\n",
      "\n",
      "DataFrame with New Feature 'Age_Salary_Ratio':\n",
      "    Age  Salary  Age_Salary_Ratio\n",
      "0    25   50000          0.000500\n",
      "1    30   60000          0.000500\n",
      "2    35   70000          0.000500\n",
      "3    40   80000          0.000500\n",
      "4    45   90000          0.000500\n",
      "5    50  100000          0.000500\n",
      "6    55  110000          0.000500\n",
      "7    60  120000          0.000500\n",
      "8    65  130000          0.000500\n",
      "9  1000  140000          0.007143\n"
     ]
    }
   ],
   "source": [
    "# Question: Feature Engineering by Creating New Features\n",
    "# Objective: Create a new feature based on existing features to add predictive power.\n",
    "# Description: Generate additional features from existing data to potentially improve the performance of\n",
    "# prediction models.\n",
    "import pandas as pd\n",
    "\n",
    "# Sample dataset\n",
    "data = {\n",
    "    'Age': [25, 30, 35, 40, 45, 50, 55, 60, 65, 1000],\n",
    "    'Salary': [50000, 60000, 70000, 80000, 90000, 100000, 110000, 120000, 130000, 140000],\n",
    "}\n",
    "\n",
    "# Create a DataFrame\n",
    "df = pd.DataFrame(data)\n",
    "\n",
    "# Display the original dataset\n",
    "print(\"Original DataFrame:\")\n",
    "print(df)\n",
    "\n",
    "# Creating a new feature: Age_Salary_Ratio\n",
    "df['Age_Salary_Ratio'] = df['Age'] / df['Salary']\n",
    "\n",
    "# Display the new dataset with the additional feature\n",
    "print(\"\\nDataFrame with New Feature 'Age_Salary_Ratio':\")\n",
    "print(df)\n",
    "\n"
   ]
  },
  {
   "cell_type": "code",
   "execution_count": null,
   "metadata": {},
   "outputs": [],
   "source": [
    "# 2. Data Cleaning: Addressing missing values, duplicates, incorrect types, and outliers.\n",
    "# Task 1: Clean a given dataset and document the changes made.\n",
    "# Task 2: Create a checklist to ensure comprehensive data cleaning in future projects.\n",
    "# Task 3: Collaborate with a peer to clean a new dataset and present your solutions.\n",
    "\n"
   ]
  },
  {
   "cell_type": "code",
   "execution_count": null,
   "metadata": {},
   "outputs": [],
   "source": [
    "# 3. Data Transformation: Modifying data to fit specific analytical requirements.\n",
    "# Task 1: Transform a date column into separate 'day', 'month', and 'year' columns.\n",
    "# Task 2: Apply normalization to a dataset feature and confirm the changes.\n",
    "# Task 3: Discuss the importance of data transformation in model interpretability.\n",
    "\n",
    "\n"
   ]
  },
  {
   "cell_type": "code",
   "execution_count": null,
   "metadata": {},
   "outputs": [],
   "source": [
    "# 4. Feature Scaling: Adjusting data features to a common scale.\n",
    "# Task 1: Apply Min-Max scaling to a dataset.\n",
    "# Task 2: Standardize a dataset and visualize the changes with a histogram.\n",
    "# Task 3: Analyze how feature scaling impacts the performance of different machine learning algorithms.\n",
    "\n",
    "\n",
    "\n"
   ]
  },
  {
   "cell_type": "code",
   "execution_count": 2,
   "metadata": {},
   "outputs": [],
   "source": [
    "# 5. Feature Engineering: Creating new features from existing ones to improve model accuracy.\n",
    "# Task 1: Create a new synthetic feature from existing dataset features.\n",
    "# Task 2: Evaluate the impact of new features on model accuracy.\n",
    "# Task 3: Read an academic paper on feature engineering techniques and present the findings.\n",
    "\n",
    "\n"
   ]
  }
 ],
 "metadata": {
  "kernelspec": {
   "display_name": "Python 3",
   "language": "python",
   "name": "python3"
  },
  "language_info": {
   "codemirror_mode": {
    "name": "ipython",
    "version": 3
   },
   "file_extension": ".py",
   "mimetype": "text/x-python",
   "name": "python",
   "nbconvert_exporter": "python",
   "pygments_lexer": "ipython3",
   "version": "3.10.12"
  }
 },
 "nbformat": 4,
 "nbformat_minor": 2
}
