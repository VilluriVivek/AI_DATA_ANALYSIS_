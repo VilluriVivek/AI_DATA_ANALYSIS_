{
 "cells": [
  {
   "cell_type": "markdown",
   "metadata": {},
   "source": [
    "### Task 1: Basic Data Profiling of a CSV File\n",
    "**Description**: Load a CSV file and generate a Pandas-Profiling report.\n",
    "\n",
    "**Steps**:\n",
    "1. Load a CSV File: Make sure you have a CSV file (e.g., data.csv ). Load it using pandas.\n",
    "2. Generate a Profile Report."
   ]
  },
  {
   "cell_type": "code",
   "execution_count": 1,
   "metadata": {},
   "outputs": [
    {
     "ename": "ModuleNotFoundError",
     "evalue": "No module named 'pandas_profiling'",
     "output_type": "error",
     "traceback": [
      "\u001b[0;31m---------------------------------------------------------------------------\u001b[0m",
      "\u001b[0;31mModuleNotFoundError\u001b[0m                       Traceback (most recent call last)",
      "Cell \u001b[0;32mIn[1], line 2\u001b[0m\n\u001b[1;32m      1\u001b[0m \u001b[38;5;28;01mimport\u001b[39;00m\u001b[38;5;250m \u001b[39m\u001b[38;5;21;01mpandas\u001b[39;00m\u001b[38;5;250m \u001b[39m\u001b[38;5;28;01mas\u001b[39;00m\u001b[38;5;250m \u001b[39m\u001b[38;5;21;01mpd\u001b[39;00m\n\u001b[0;32m----> 2\u001b[0m \u001b[38;5;28;01mimport\u001b[39;00m\u001b[38;5;250m \u001b[39m\u001b[38;5;21;01mpandas_profiling\u001b[39;00m\n\u001b[1;32m      3\u001b[0m \u001b[38;5;28;01mimport\u001b[39;00m\u001b[38;5;250m \u001b[39m\u001b[38;5;21;01mstreamlit\u001b[39;00m\u001b[38;5;250m \u001b[39m\u001b[38;5;28;01mas\u001b[39;00m\u001b[38;5;250m \u001b[39m\u001b[38;5;21;01mst\u001b[39;00m\n\u001b[1;32m      5\u001b[0m \u001b[38;5;28;01mdef\u001b[39;00m\u001b[38;5;250m \u001b[39m\u001b[38;5;21mgenerate_data_profile\u001b[39m(file_path):\n",
      "\u001b[0;31mModuleNotFoundError\u001b[0m: No module named 'pandas_profiling'"
     ]
    }
   ],
   "source": [
    "import pandas as pd\n",
    "import pandas_profiling\n",
    "import streamlit as st\n",
    "\n",
    "def generate_data_profile(file_path):\n",
    "    \"\"\"\n",
    "    Loads a CSV file and generates a Pandas-Profiling report.\n",
    "\n",
    "    Args:\n",
    "        file_path (str): The path to the CSV file.\n",
    "    \"\"\"\n",
    "    try:\n",
    "        # Load the CSV file into a Pandas DataFrame\n",
    "        df = pd.read_csv(file_path)\n",
    "        st.write(f\"Loaded data from: {file_path}\") # show file loaded.\n",
    "\n",
    "        # Generate the Pandas-Profiling report\n",
    "        profile = pandas_profiling.ProfileReport(df, title=\"Data Profile Report\", explorative=True)\n",
    "\n",
    "        # Save the report to an HTML file\n",
    "        profile_file_name = file_path.replace(\".csv\", \"_profile.html\")\n",
    "        profile.to_file(profile_file_name)\n",
    "        st.success(f\"Pandas-Profiling report generated and saved to: {profile_file_name}\")\n",
    "\n",
    "        # Display the report in Streamlit (optional, can be slow for large datasets)\n",
    "        st.header(\"Data Profile Report\")\n",
    "        st.components.v1.html(profile.to_html(), width=800, height=600, scrolling=True)\n",
    "\n",
    "    except FileNotFoundError:\n",
    "        st.error(f\"Error: File not found at {file_path}\")\n",
    "    except Exception as e:\n",
    "        st.error(f\"An error occurred: {e}\")\n",
    "\n",
    "if __name__ == \"__main__\":\n",
    "    # Get the file path from the user using st.text_input\n",
    "    default_file_path = \"data.csv\"  # Replace with your default CSV file name\n",
    "    file_path = st.text_input(\"Enter the path to your CSV file:\", default_file_path)\n",
    "\n",
    "    # Generate the data profile\n",
    "    generate_data_profile(file_path)\n"
   ]
  },
  {
   "cell_type": "markdown",
   "metadata": {},
   "source": [
    "### Task 2: Understanding Missing Values with Pandas-Profiling\n",
    "\n",
    "**Description**: Identify missing values in your dataset using pandas-profiling.\n",
    "\n",
    "**Steps**: \n",
    "1. Generate a Profile Report to Analyze Missing Values\n"
   ]
  },
  {
   "cell_type": "code",
   "execution_count": 2,
   "metadata": {},
   "outputs": [
    {
     "ename": "ModuleNotFoundError",
     "evalue": "No module named 'pandas_profiling'",
     "output_type": "error",
     "traceback": [
      "\u001b[0;31m---------------------------------------------------------------------------\u001b[0m",
      "\u001b[0;31mModuleNotFoundError\u001b[0m                       Traceback (most recent call last)",
      "Cell \u001b[0;32mIn[2], line 2\u001b[0m\n\u001b[1;32m      1\u001b[0m \u001b[38;5;28;01mimport\u001b[39;00m\u001b[38;5;250m \u001b[39m\u001b[38;5;21;01mpandas\u001b[39;00m\u001b[38;5;250m \u001b[39m\u001b[38;5;28;01mas\u001b[39;00m\u001b[38;5;250m \u001b[39m\u001b[38;5;21;01mpd\u001b[39;00m\n\u001b[0;32m----> 2\u001b[0m \u001b[38;5;28;01mimport\u001b[39;00m\u001b[38;5;250m \u001b[39m\u001b[38;5;21;01mpandas_profiling\u001b[39;00m\n\u001b[1;32m      3\u001b[0m \u001b[38;5;28;01mimport\u001b[39;00m\u001b[38;5;250m \u001b[39m\u001b[38;5;21;01mstreamlit\u001b[39;00m\u001b[38;5;250m \u001b[39m\u001b[38;5;28;01mas\u001b[39;00m\u001b[38;5;250m \u001b[39m\u001b[38;5;21;01mst\u001b[39;00m\n\u001b[1;32m      5\u001b[0m \u001b[38;5;28;01mdef\u001b[39;00m\u001b[38;5;250m \u001b[39m\u001b[38;5;21mgenerate_data_profile\u001b[39m(file_path):\n",
      "\u001b[0;31mModuleNotFoundError\u001b[0m: No module named 'pandas_profiling'"
     ]
    }
   ],
   "source": [
    "import pandas as pd\n",
    "import pandas_profiling\n",
    "import streamlit as st\n",
    "\n",
    "def generate_data_profile(file_path):\n",
    "    \"\"\"\n",
    "    Loads a CSV file and generates a Pandas-Profiling report,\n",
    "    with emphasis on missing value analysis.\n",
    "\n",
    "    Args:\n",
    "        file_path (str): The path to the CSV file.\n",
    "    \"\"\"\n",
    "    try:\n",
    "        # Load the CSV file into a Pandas DataFrame\n",
    "        df = pd.read_csv(file_path)\n",
    "        st.write(f\"Loaded data from: {file_path}\")\n",
    "\n",
    "        # Generate the Pandas-Profiling report\n",
    "        profile = pandas_profiling.ProfileReport(df, title=\"Data Profile Report\", explorative=True)\n",
    "\n",
    "        # Save the report to an HTML file\n",
    "        profile_file_name = file_path.replace(\".csv\", \"_profile.html\")\n",
    "        profile.to_file(profile_file_name)\n",
    "        st.success(f\"Pandas-Profiling report generated and saved to: {profile_file_name}\")\n",
    "\n",
    "        # Display the report in Streamlit\n",
    "        st.header(\"Data Profile Report\")\n",
    "        st.write(\n",
    "            \"The Pandas-Profiling report provides a detailed analysis of the data, including information about missing values.  \"\n",
    "            \"Scroll through the report to find sections on 'Missing Values' for each variable, and an overview in the 'Overview' section.\"\n",
    "        )\n",
    "        st.components.v1.html(profile.to_html(), width=800, height=600, scrolling=True)\n",
    "\n",
    "    except FileNotFoundError:\n",
    "        st.error(f\"Error: File not found at {file_path}\")\n",
    "    except Exception as e:\n",
    "        st.error(f\"An error occurred: {e}\")\n",
    "\n",
    "if __name__ == \"__main__\":\n",
    "    # Get the file path from the user using st.text_input\n",
    "    default_file_path = \"data.csv\"  # Replace with your default CSV file name\n",
    "    file_path = st.text_input(\"Enter the path to your CSV file:\", default_file_path)\n",
    "\n",
    "    # Generate the data profile\n",
    "    generate_data_profile(file_path)\n"
   ]
  },
  {
   "cell_type": "markdown",
   "metadata": {},
   "source": [
    "### Task 3: Analyze Data Types Using Pandas-Profiling\n",
    "**Description**: Use Pandas-Profiling to analyze and check data types of your dataset."
   ]
  },
  {
   "cell_type": "code",
   "execution_count": 3,
   "metadata": {},
   "outputs": [
    {
     "ename": "ModuleNotFoundError",
     "evalue": "No module named 'pandas_profiling'",
     "output_type": "error",
     "traceback": [
      "\u001b[0;31m---------------------------------------------------------------------------\u001b[0m",
      "\u001b[0;31mModuleNotFoundError\u001b[0m                       Traceback (most recent call last)",
      "Cell \u001b[0;32mIn[3], line 2\u001b[0m\n\u001b[1;32m      1\u001b[0m \u001b[38;5;28;01mimport\u001b[39;00m\u001b[38;5;250m \u001b[39m\u001b[38;5;21;01mpandas\u001b[39;00m\u001b[38;5;250m \u001b[39m\u001b[38;5;28;01mas\u001b[39;00m\u001b[38;5;250m \u001b[39m\u001b[38;5;21;01mpd\u001b[39;00m\n\u001b[0;32m----> 2\u001b[0m \u001b[38;5;28;01mimport\u001b[39;00m\u001b[38;5;250m \u001b[39m\u001b[38;5;21;01mpandas_profiling\u001b[39;00m\n\u001b[1;32m      3\u001b[0m \u001b[38;5;28;01mimport\u001b[39;00m\u001b[38;5;250m \u001b[39m\u001b[38;5;21;01mstreamlit\u001b[39;00m\u001b[38;5;250m \u001b[39m\u001b[38;5;28;01mas\u001b[39;00m\u001b[38;5;250m \u001b[39m\u001b[38;5;21;01mst\u001b[39;00m\n\u001b[1;32m      5\u001b[0m \u001b[38;5;28;01mdef\u001b[39;00m\u001b[38;5;250m \u001b[39m\u001b[38;5;21mgenerate_data_profile\u001b[39m(file_path):\n",
      "\u001b[0;31mModuleNotFoundError\u001b[0m: No module named 'pandas_profiling'"
     ]
    }
   ],
   "source": [
    "import pandas as pd\n",
    "import pandas_profiling\n",
    "import streamlit as st\n",
    "\n",
    "def generate_data_profile(file_path):\n",
    "    \"\"\"\n",
    "    Loads a CSV file and generates a Pandas-Profiling report,\n",
    "    with emphasis on data type analysis.\n",
    "\n",
    "    Args:\n",
    "        file_path (str): The path to the CSV file.\n",
    "    \"\"\"\n",
    "    try:\n",
    "        # Load the CSV file into a Pandas DataFrame\n",
    "        df = pd.read_csv(file_path)\n",
    "        st.write(f\"Loaded data from: {file_path}\")\n",
    "\n",
    "        # Generate the Pandas-Profiling report\n",
    "        profile = pandas_profiling.ProfileReport(df, title=\"Data Profile Report\", explorative=True)\n",
    "\n",
    "        # Save the report to an HTML file\n",
    "        profile_file_name = file_path.replace(\".csv\", \"_profile.html\")\n",
    "        profile.to_file(profile_file_name)\n",
    "        st.success(f\"Pandas-Profiling report generated and saved to: {profile_file_name}\")\n",
    "\n",
    "        # Display the report in Streamlit\n",
    "        st.header(\"Data Profile Report\")\n",
    "        st.write(\n",
    "            \"The Pandas-Profiling report provides a detailed analysis of the data, including data types.  \"\n",
    "            \"The report includes a 'Variable Type' for each column in your dataset.  \"\n",
    "            \"Review the report, especially the column details, to understand the data types.\"\n",
    "        )\n",
    "        st.components.v1.html(profile.to_html(), width=800, height=600, scrolling=True)\n",
    "\n",
    "    except FileNotFoundError:\n",
    "        st.error(f\"Error: File not found at {file_path}\")\n",
    "    except Exception as e:\n",
    "        st.error(f\"An error occurred: {e}\")\n",
    "\n",
    "if __name__ == \"__main__\":\n",
    "    # Get the file path from the user using st.text_input\n",
    "    default_file_path = \"data.csv\"  # Replace with your default CSV file name\n",
    "    file_path = st.text_input(\"Enter the path to your CSV file:\", default_file_path)\n",
    "\n",
    "    # Generate the data profile\n",
    "    generate_data_profile(file_path)\n"
   ]
  },
  {
   "cell_type": "markdown",
   "metadata": {},
   "source": [
    "### Task 4: Detect Unique Values and Duplicates\n",
    "**Description**: Use Pandas-Profiling to detect unique values and duplicates in your dataset."
   ]
  },
  {
   "cell_type": "code",
   "execution_count": 4,
   "metadata": {},
   "outputs": [
    {
     "ename": "ModuleNotFoundError",
     "evalue": "No module named 'pandas_profiling'",
     "output_type": "error",
     "traceback": [
      "\u001b[0;31m---------------------------------------------------------------------------\u001b[0m",
      "\u001b[0;31mModuleNotFoundError\u001b[0m                       Traceback (most recent call last)",
      "Cell \u001b[0;32mIn[4], line 2\u001b[0m\n\u001b[1;32m      1\u001b[0m \u001b[38;5;28;01mimport\u001b[39;00m\u001b[38;5;250m \u001b[39m\u001b[38;5;21;01mpandas\u001b[39;00m\u001b[38;5;250m \u001b[39m\u001b[38;5;28;01mas\u001b[39;00m\u001b[38;5;250m \u001b[39m\u001b[38;5;21;01mpd\u001b[39;00m\n\u001b[0;32m----> 2\u001b[0m \u001b[38;5;28;01mimport\u001b[39;00m\u001b[38;5;250m \u001b[39m\u001b[38;5;21;01mpandas_profiling\u001b[39;00m\n\u001b[1;32m      3\u001b[0m \u001b[38;5;28;01mimport\u001b[39;00m\u001b[38;5;250m \u001b[39m\u001b[38;5;21;01mstreamlit\u001b[39;00m\u001b[38;5;250m \u001b[39m\u001b[38;5;28;01mas\u001b[39;00m\u001b[38;5;250m \u001b[39m\u001b[38;5;21;01mst\u001b[39;00m\n\u001b[1;32m      5\u001b[0m \u001b[38;5;28;01mdef\u001b[39;00m\u001b[38;5;250m \u001b[39m\u001b[38;5;21mgenerate_data_profile\u001b[39m(file_path):\n",
      "\u001b[0;31mModuleNotFoundError\u001b[0m: No module named 'pandas_profiling'"
     ]
    }
   ],
   "source": [
    "import pandas as pd\n",
    "import pandas_profiling\n",
    "import streamlit as st\n",
    "\n",
    "def generate_data_profile(file_path):\n",
    "    \"\"\"\n",
    "    Loads a CSV file and generates a Pandas-Profiling report,\n",
    "    with emphasis on unique value and duplicate detection.\n",
    "\n",
    "    Args:\n",
    "        file_path (str): The path to the CSV file.\n",
    "    \"\"\"\n",
    "    try:\n",
    "        # Load the CSV file into a Pandas DataFrame\n",
    "        df = pd.read_csv(file_path)\n",
    "        st.write(f\"Loaded data from: {file_path}\")\n",
    "\n",
    "        # Generate the Pandas-Profiling report\n",
    "        profile = pandas_profiling.ProfileReport(df, title=\"Data Profile Report\", explorative=True)\n",
    "\n",
    "        # Save the report to an HTML file\n",
    "        profile_file_name = file_path.replace(\".csv\", \"_profile.html\")\n",
    "        profile.to_file(profile_file_name)\n",
    "        st.success(f\"Pandas-Profiling report generated and saved to: {profile_file_name}\")\n",
    "\n",
    "        # Display the report in Streamlit\n",
    "        st.header(\"Data Profile Report\")\n",
    "        st.write(\n",
    "            \"The Pandas-Profiling report provides a detailed analysis of the data, including unique values and duplicates.  \"\n",
    "            \"For each column, the report shows the number of unique values and the percentage of duplicate values.  \"\n",
    "            \"Review the column details in the report to find this information.\"\n",
    "        )\n",
    "        st.components.v1.html(profile.to_html(), width=800, height=600, scrolling=True)\n",
    "\n",
    "    except FileNotFoundError:\n",
    "        st.error(f\"Error: File not found at {file_path}\")\n",
    "    except Exception as e:\n",
    "        st.error(f\"An error occurred: {e}\")\n",
    "\n",
    "if __name__ == \"__main__\":\n",
    "    # Get the file path from the user using st.text_input\n",
    "    default_file_path = \"data.csv\"  # Replace with your default CSV file name\n",
    "    file_path = st.text_input(\"Enter the path to your CSV file:\", default_file_path)\n",
    "\n",
    "    # Generate the data profile\n",
    "    generate_data_profile(file_path)\n"
   ]
  }
 ],
 "metadata": {
  "kernelspec": {
   "display_name": "Python 3",
   "language": "python",
   "name": "python3"
  },
  "language_info": {
   "codemirror_mode": {
    "name": "ipython",
    "version": 3
   },
   "file_extension": ".py",
   "mimetype": "text/x-python",
   "name": "python",
   "nbconvert_exporter": "python",
   "pygments_lexer": "ipython3",
   "version": "3.10.12"
  }
 },
 "nbformat": 4,
 "nbformat_minor": 2
}
