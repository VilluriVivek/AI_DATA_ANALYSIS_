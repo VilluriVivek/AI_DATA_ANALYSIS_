{
 "cells": [
  {
   "cell_type": "markdown",
   "metadata": {},
   "source": [
    "## Calculate Data Quality Score\n",
    "**Introduction**: In this activity, you will calculate data quality scores for datasets using different metrics. You will explore examples where you assess completeness, accuracy, and consistency.\n",
    "\n",
    "### Task 1: Completeness Score\n",
    "1. Objective: Determine the percentage of non-missing values in a dataset.\n",
    "2. Steps:\n",
    "    - Load a sample dataset using Pandas.\n",
    "    - Identify the columns with missing values.\n",
    "    - Calculate the completeness score as the ratio of non-missing values to total values.\n",
    "    - E.g., a dataset with customer information."
   ]
  },
  {
   "cell_type": "code",
   "execution_count": 4,
   "metadata": {},
   "outputs": [
    {
     "name": "stdout",
     "output_type": "stream",
     "text": [
      "Missing values per column:\n",
      "CustomerID    1\n",
      "Name          1\n",
      "Email         1\n",
      "dtype: int64\n",
      "\n",
      "Total cells: 15\n",
      "Total missing values: 3\n",
      "Completeness Score: 80.00%\n"
     ]
    }
   ],
   "source": [
    "import pandas as pd\n",
    "\n",
    "# Step 1: Load a sample dataset\n",
    "data = {\n",
    "    'CustomerID': [101, 102, 103, 104, None],\n",
    "    'Name': ['Alice', 'Bob', 'Charlie', None, 'Eva'],\n",
    "    'Email': ['alice@email.com', None, 'charlie@email.com', 'dan@email.com', 'eva@email.com']\n",
    "}\n",
    "\n",
    "df = pd.DataFrame(data)\n",
    "\n",
    "# Step 2: Identify missing values\n",
    "missing_values = df.isnull().sum()\n",
    "print(\"Missing values per column:\")\n",
    "print(missing_values)\n",
    "\n",
    "# Step 3: Calculate completeness score\n",
    "total_cells = df.size\n",
    "total_missing = df.isnull().sum().sum()\n",
    "total_non_missing = total_cells - total_missing\n",
    "completeness_score = total_non_missing / total_cells\n",
    "\n",
    "# Step 4: Output\n",
    "print(f\"\\nTotal cells: {total_cells}\")\n",
    "print(f\"Total missing values: {total_missing}\")\n",
    "print(f\"Completeness Score: {completeness_score:.2%}\")\n"
   ]
  },
  {
   "cell_type": "markdown",
   "metadata": {},
   "source": [
    "### Task 2: Accuracy Score\n",
    "\n",
    "1. Objective: Measure the accuracy of a dataset by comparing it against a reference dataset.\n",
    "2. Steps:\n",
    "    - Load the main dataset and a reference dataset.\n",
    "    - Select key columns for accuracy check.\n",
    "    - Match values from both datasets and calculate the accuracy percentage.\n",
    "    - E.g., along existing dataset with sales information."
   ]
  },
  {
   "cell_type": "code",
   "execution_count": 5,
   "metadata": {},
   "outputs": [
    {
     "name": "stdout",
     "output_type": "stream",
     "text": [
      "Total checks: 8\n",
      "Correct matches: 7\n",
      "Accuracy Score: 87.50%\n"
     ]
    }
   ],
   "source": [
    "import pandas as pd\n",
    "\n",
    "# Step 1: Create sample data\n",
    "main_data = {\n",
    "    'ProductID': [101, 102, 103, 104],\n",
    "    'Quantity': [5, 3, 2, 8],\n",
    "    'Price': [100, 200, 150, 300]\n",
    "}\n",
    "\n",
    "reference_data = {\n",
    "    'ProductID': [101, 102, 103, 104],\n",
    "    'Quantity': [5, 3, 2, 10],      # Last entry differs from main_data\n",
    "    'Price': [100, 200, 150, 300]\n",
    "}\n",
    "\n",
    "# Step 2: Load datasets\n",
    "df_main = pd.DataFrame(main_data)\n",
    "df_ref = pd.DataFrame(reference_data)\n",
    "\n",
    "# Step 3: Compare key columns\n",
    "comparison_columns = ['Quantity', 'Price']\n",
    "\n",
    "# Merge on unique key (ProductID)\n",
    "df_merged = pd.merge(df_main, df_ref, on='ProductID', suffixes=('_main', '_ref'))\n",
    "\n",
    "# Step 4: Check row-wise accuracy for selected columns\n",
    "correct_matches = 0\n",
    "total_checks = len(df_merged) * len(comparison_columns)\n",
    "\n",
    "for col in comparison_columns:\n",
    "    correct_matches += (df_merged[f\"{col}_main\"] == df_merged[f\"{col}_ref\"]).sum()\n",
    "\n",
    "accuracy_score = correct_matches / total_checks\n",
    "\n",
    "# Step 5: Output\n",
    "print(f\"Total checks: {total_checks}\")\n",
    "print(f\"Correct matches: {correct_matches}\")\n",
    "print(f\"Accuracy Score: {accuracy_score:.2%}\")\n"
   ]
  },
  {
   "cell_type": "markdown",
   "metadata": {},
   "source": [
    "### Task 3: Consistency Score\n",
    "\n",
    "1. Objective: Evaluate the consistency within a dataset for specific columns.\n",
    "2. Steps:\n",
    "    - Choose a column expected to have consistent values.\n",
    "    - Use statistical or rule-based checks to identify inconsistencies.\n",
    "    - Calculate the consistency score by the ratio of consistent to total entries.\n",
    "    - E.g., validating phone number formats in a contact list."
   ]
  },
  {
   "cell_type": "code",
   "execution_count": 6,
   "metadata": {},
   "outputs": [
    {
     "name": "stdout",
     "output_type": "stream",
     "text": [
      "Phone number consistency check:\n",
      "      Name            Phone  IsConsistent\n",
      "0    Alice  +1-123-456-7890          True\n",
      "1      Bob     123-456-7890         False\n",
      "2  Charlie  +1-987-654-3210          True\n",
      "3    Diana  +1-111-222-3333          True\n",
      "4      Eva       9876543210         False\n",
      "\n",
      "Total entries: 5\n",
      "Consistent entries: 3\n",
      "Consistency Score: 60.00%\n"
     ]
    }
   ],
   "source": [
    "import pandas as pd\n",
    "import re\n",
    "\n",
    "# Step 1: Create sample dataset\n",
    "data = {\n",
    "    'Name': ['Alice', 'Bob', 'Charlie', 'Diana', 'Eva'],\n",
    "    'Phone': ['+1-123-456-7890', '123-456-7890', '+1-987-654-3210', '+1-111-222-3333', '9876543210']\n",
    "}\n",
    "\n",
    "df = pd.DataFrame(data)\n",
    "\n",
    "# Step 2: Define a regex pattern for valid phone format\n",
    "pattern = r'^\\+1-\\d{3}-\\d{3}-\\d{4}$'\n",
    "\n",
    "# Step 3: Apply consistency check\n",
    "df['IsConsistent'] = df['Phone'].apply(lambda x: bool(re.match(pattern, str(x))))\n",
    "\n",
    "# Step 4: Calculate consistency score\n",
    "total_entries = len(df)\n",
    "consistent_entries = df['IsConsistent'].sum()\n",
    "consistency_score = consistent_entries / total_entries\n",
    "\n",
    "# Step 5: Output\n",
    "print(\"Phone number consistency check:\")\n",
    "print(df[['Name', 'Phone', 'IsConsistent']])\n",
    "print(f\"\\nTotal entries: {total_entries}\")\n",
    "print(f\"Consistent entries: {consistent_entries}\")\n",
    "print(f\"Consistency Score: {consistency_score:.2%}\")\n"
   ]
  }
 ],
 "metadata": {
  "kernelspec": {
   "display_name": "Python 3",
   "language": "python",
   "name": "python3"
  },
  "language_info": {
   "codemirror_mode": {
    "name": "ipython",
    "version": 3
   },
   "file_extension": ".py",
   "mimetype": "text/x-python",
   "name": "python",
   "nbconvert_exporter": "python",
   "pygments_lexer": "ipython3",
   "version": "3.10.12"
  }
 },
 "nbformat": 4,
 "nbformat_minor": 2
}
