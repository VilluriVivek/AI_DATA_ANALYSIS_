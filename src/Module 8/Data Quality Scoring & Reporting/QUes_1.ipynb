{
 "cells": [
  {
   "cell_type": "markdown",
   "metadata": {},
   "source": [
    "## Read Data from CSV and Calculate DQI\n",
    "\n",
    "**Description**: Read data from a CSV file, identify errors as missing values, and calculate the DQI."
   ]
  },
  {
   "cell_type": "code",
   "execution_count": 4,
   "metadata": {},
   "outputs": [
    {
     "name": "stdout",
     "output_type": "stream",
     "text": [
      "Error: File not found at 'your_data.csv'\n"
     ]
    }
   ],
   "source": [
    "import pandas as pd\n",
    "import numpy as np\n",
    "\n",
    "def calculate_dqi_from_csv(file_path):\n",
    "    \"\"\"\n",
    "    Reads data from a CSV file, identifies missing values as errors,\n",
    "    and calculates a simple Data Quality Index (DQI).\n",
    "\n",
    "    Args:\n",
    "        file_path (str): The path to the CSV file.\n",
    "\n",
    "    Returns:\n",
    "        float or None: The Data Quality Index (DQI) as a percentage (0-100),\n",
    "                       or None if the file cannot be read.\n",
    "    \"\"\"\n",
    "    try:\n",
    "        df = pd.read_csv(file_path)\n",
    "    except FileNotFoundError:\n",
    "        print(f\"Error: File not found at '{file_path}'\")\n",
    "        return None\n",
    "\n",
    "    total_records = df.size  # Total number of elements in the DataFrame\n",
    "    missing_values_count = df.isnull().sum().sum()  # Total count of missing values\n",
    "\n",
    "    if total_records == 0:\n",
    "        print(\"Warning: The CSV file is empty.\")\n",
    "        return 100.0  # Consider DQI as 100% for an empty file\n",
    "\n",
    "    valid_records_count = total_records - missing_values_count\n",
    "    dqi = (valid_records_count / total_records) * 100\n",
    "\n",
    "    print(f\"Total Records: {total_records}\")\n",
    "    print(f\"Number of Missing Values (Errors): {missing_values_count}\")\n",
    "    print(f\"Data Quality Index (DQI): {dqi:.2f}%\")\n",
    "\n",
    "    return dqi\n",
    "\n",
    "# Example usage: Replace 'your_data.csv' with the actual path to your CSV file\n",
    "file_path = 'your_data.csv'\n",
    "dqi_value = calculate_dqi_from_csv(file_path)\n",
    "\n",
    "if dqi_value is not None:\n",
    "    print(f\"Calculated DQI: {dqi_value:.2f}%\")"
   ]
  },
  {
   "cell_type": "markdown",
   "metadata": {},
   "source": [
    "### Visualize Basic DQI with Bar Plot\n",
    "\n",
    "**Description**: Create a bar plot for DQI and errors in a dataset."
   ]
  },
  {
   "cell_type": "code",
   "execution_count": 3,
   "metadata": {},
   "outputs": [
    {
     "name": "stdout",
     "output_type": "stream",
     "text": [
      "Error: File not found at 'your_data.csv'\n"
     ]
    }
   ],
   "source": [
    "import pandas as pd\n",
    "import matplotlib.pyplot as plt\n",
    "\n",
    "def visualize_dqi(file_path):\n",
    "    \"\"\"\n",
    "    Reads data from a CSV file, calculates DQI and error metrics,\n",
    "    and visualizes them using a bar plot.\n",
    "\n",
    "    Args:\n",
    "        file_path (str): The path to the CSV file.\n",
    "    \"\"\"\n",
    "    try:\n",
    "        df = pd.read_csv(file_path)\n",
    "    except FileNotFoundError:\n",
    "        print(f\"Error: File not found at '{file_path}'\")\n",
    "        return\n",
    "\n",
    "    total_records = df.size\n",
    "    missing_values_count = df.isnull().sum().sum()\n",
    "\n",
    "    if total_records == 0:\n",
    "        print(\"Warning: The CSV file is empty. Cannot visualize DQI.\")\n",
    "        return\n",
    "\n",
    "    valid_records_count = total_records - missing_values_count\n",
    "    dqi = (valid_records_count / total_records) * 100\n",
    "\n",
    "    # Data for the bar plot\n",
    "    metrics = ['DQI (%)', 'Errors', 'Total Records']\n",
    "    values = [dqi, missing_values_count, total_records]\n",
    "\n",
    "    # Create the bar plot\n",
    "    plt.figure(figsize=(8, 6))\n",
    "    plt.bar(metrics, values, color=['green', 'red', 'blue'])  # Customize colors\n",
    "    plt.ylabel('Value')\n",
    "    plt.title('Data Quality Metrics')\n",
    "    plt.ylim(0, max(values) * 1.1)  # Set y-axis limit slightly above the max value\n",
    "\n",
    "    # Add value labels to the bars\n",
    "    for i, value in enumerate(values):\n",
    "        plt.text(i, value + max(values) * 0.02, f'{value:.2f}' if i == 0 else f'{int(value)}', ha='center', va='bottom')\n",
    "\n",
    "    plt.show()\n",
    "\n",
    "# Example usage:\n",
    "file_path = 'your_data.csv'  # Replace with your CSV file path\n",
    "visualize_dqi(file_path)"
   ]
  }
 ],
 "metadata": {
  "kernelspec": {
   "display_name": "Python 3",
   "language": "python",
   "name": "python3"
  },
  "language_info": {
   "codemirror_mode": {
    "name": "ipython",
    "version": 3
   },
   "file_extension": ".py",
   "mimetype": "text/x-python",
   "name": "python",
   "nbconvert_exporter": "python",
   "pygments_lexer": "ipython3",
   "version": "3.10.12"
  }
 },
 "nbformat": 4,
 "nbformat_minor": 2
}
