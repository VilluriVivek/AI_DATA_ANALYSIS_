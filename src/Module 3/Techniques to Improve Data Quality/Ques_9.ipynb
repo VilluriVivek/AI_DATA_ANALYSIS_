{
 "cells": [
  {
   "cell_type": "code",
   "execution_count": 1,
   "metadata": {},
   "outputs": [
    {
     "name": "stdout",
     "output_type": "stream",
     "text": [
      "DataFrame after predictive imputation:\n",
      "   feature1  feature2  target\n",
      "0         1         3   10.00\n",
      "1         2         4   12.00\n",
      "2         3         5   12.92\n",
      "3         4         6   16.00\n",
      "4         5         7   18.00\n",
      "5         6         8   19.26\n",
      "6         7         9   22.00\n",
      "7         8        10   24.00\n"
     ]
    }
   ],
   "source": [
    "import pandas as pd\n",
    "import numpy as np\n",
    "from sklearn.ensemble import RandomForestRegressor\n",
    "from sklearn.model_selection import train_test_split\n",
    "\n",
    "# Sample DataFrame with missing values\n",
    "data = {\n",
    "    'feature1': [1, 2, 3, 4, 5, 6, 7, 8],\n",
    "    'feature2': [3, 4, 5, 6, 7, 8, 9, 10],\n",
    "    'target': [10, 12, np.nan, 16, 18, np.nan, 22, 24]\n",
    "}\n",
    "\n",
    "df = pd.DataFrame(data)\n",
    "\n",
    "# Split data into rows with and without missing values in 'target'\n",
    "df_missing = df[df['target'].isnull()]\n",
    "df_not_missing = df[df['target'].notnull()]\n",
    "\n",
    "# Features to use for prediction (excluding the target)\n",
    "features = ['feature1', 'feature2']\n",
    "\n",
    "# Training data\n",
    "X_train = df_not_missing[features]\n",
    "y_train = df_not_missing['target']\n",
    "\n",
    "# Data to predict\n",
    "X_missing = df_missing[features]\n",
    "\n",
    "# Model: RandomForest for regression-based imputation\n",
    "model = RandomForestRegressor(random_state=42)\n",
    "model.fit(X_train, y_train)\n",
    "\n",
    "# Predict missing values\n",
    "predicted_values = model.predict(X_missing)\n",
    "\n",
    "# Fill missing values in original DataFrame\n",
    "df.loc[df['target'].isnull(), 'target'] = predicted_values\n",
    "\n",
    "print(\"DataFrame after predictive imputation:\")\n",
    "print(df)\n"
   ]
  }
 ],
 "metadata": {
  "kernelspec": {
   "display_name": "Python 3",
   "language": "python",
   "name": "python3"
  },
  "language_info": {
   "codemirror_mode": {
    "name": "ipython",
    "version": 3
   },
   "file_extension": ".py",
   "mimetype": "text/x-python",
   "name": "python",
   "nbconvert_exporter": "python",
   "pygments_lexer": "ipython3",
   "version": "3.10.12"
  }
 },
 "nbformat": 4,
 "nbformat_minor": 2
}
