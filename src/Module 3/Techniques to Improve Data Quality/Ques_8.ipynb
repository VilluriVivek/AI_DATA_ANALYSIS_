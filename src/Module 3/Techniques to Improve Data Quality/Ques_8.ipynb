{
 "cells": [
  {
   "cell_type": "code",
   "execution_count": 1,
   "metadata": {},
   "outputs": [
    {
     "ename": "AttributeError",
     "evalue": "'EphemeralDataContext' object has no attribute 'get_expectation_suite'",
     "output_type": "error",
     "traceback": [
      "\u001b[0;31m---------------------------------------------------------------------------\u001b[0m",
      "\u001b[0;31mAttributeError\u001b[0m                            Traceback (most recent call last)",
      "Cell \u001b[0;32mIn[1], line 28\u001b[0m\n\u001b[1;32m     26\u001b[0m \u001b[38;5;66;03m# Create or load the expectation suite manually if it does not exist\u001b[39;00m\n\u001b[1;32m     27\u001b[0m \u001b[38;5;28;01mtry\u001b[39;00m:\n\u001b[0;32m---> 28\u001b[0m     \u001b[43mcontext\u001b[49m\u001b[38;5;241;43m.\u001b[39;49m\u001b[43mget_expectation_suite\u001b[49m(suite_name)\n\u001b[1;32m     29\u001b[0m \u001b[38;5;28;01mexcept\u001b[39;00m gx\u001b[38;5;241m.\u001b[39mexceptions\u001b[38;5;241m.\u001b[39mexceptions\u001b[38;5;241m.\u001b[39mDataContextError:\n\u001b[1;32m     30\u001b[0m     \u001b[38;5;66;03m# If not found, create a new expectation suite\u001b[39;00m\n\u001b[1;32m     31\u001b[0m     context\u001b[38;5;241m.\u001b[39madd_expectation_suite(expectation_suite_name\u001b[38;5;241m=\u001b[39msuite_name)\n",
      "\u001b[0;31mAttributeError\u001b[0m: 'EphemeralDataContext' object has no attribute 'get_expectation_suite'"
     ]
    }
   ],
   "source": [
    "import great_expectations as gx\n",
    "import pandas as pd\n",
    "\n",
    "# Initialize an in-memory DataContext\n",
    "context = gx.get_context()\n",
    "\n",
    "# Create a sample DataFrame\n",
    "data = {'value': [1, 2, None, 4, 5]}\n",
    "df = pd.DataFrame(data)\n",
    "\n",
    "# Save the DataFrame to a CSV file\n",
    "df.to_csv('data.csv', index=False)\n",
    "\n",
    "# Define the batch request\n",
    "batch_request = {\n",
    "    \"datasource_name\": \"my_pandas_datasource\",\n",
    "    \"data_connector_name\": \"default_runtime_data_connector_name\",\n",
    "    \"data_asset_name\": \"data.csv\",\n",
    "    \"runtime_parameters\": {\"path\": \"data.csv\"},\n",
    "    \"batch_identifiers\": {\"default_identifier_name\": \"default_identifier\"},\n",
    "}\n",
    "\n",
    "# Define the suite name\n",
    "suite_name = \"expect_no_missing_values\"\n",
    "\n",
    "# Create or load the expectation suite manually if it does not exist\n",
    "try:\n",
    "    context.get_expectation_suite(suite_name)\n",
    "except gx.exceptions.exceptions.DataContextError:\n",
    "    # If not found, create a new expectation suite\n",
    "    context.add_expectation_suite(expectation_suite_name=suite_name)\n",
    "\n",
    "# Create a Validator for the batch\n",
    "validator = context.get_validator(\n",
    "    batch_request=batch_request,\n",
    "    expectation_suite_name=suite_name\n",
    ")\n",
    "\n",
    "# Add an expectation to check that the 'value' column has no missing values\n",
    "validator.expect_column_to_not_be_null(\"value\")\n",
    "\n",
    "# Save the expectation suite (in-memory)\n",
    "context.save_expectation_suite(validator.expectation_suite)\n",
    "\n",
    "# Run a checkpoint to validate the data\n",
    "checkpoint = gx.checkpoint.Checkpoint(\n",
    "    name=\"missing_value_check\",\n",
    "    data_context=context,\n",
    "    validations=[\n",
    "        {\n",
    "            \"batch_request\": batch_request,\n",
    "            \"expectation_suite_name\": suite_name\n",
    "        }\n",
    "    ]\n",
    ")\n",
    "\n",
    "# Execute the checkpoint\n",
    "result = checkpoint.run()\n",
    "\n",
    "# Print the validation results\n",
    "import pprint\n",
    "pprint.pprint(result.to_json_dict())\n"
   ]
  }
 ],
 "metadata": {
  "kernelspec": {
   "display_name": "Python 3",
   "language": "python",
   "name": "python3"
  },
  "language_info": {
   "codemirror_mode": {
    "name": "ipython",
    "version": 3
   },
   "file_extension": ".py",
   "mimetype": "text/x-python",
   "name": "python",
   "nbconvert_exporter": "python",
   "pygments_lexer": "ipython3",
   "version": "3.10.12"
  }
 },
 "nbformat": 4,
 "nbformat_minor": 2
}
