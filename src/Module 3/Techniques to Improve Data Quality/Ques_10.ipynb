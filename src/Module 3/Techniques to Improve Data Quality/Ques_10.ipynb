{
 "cells": [
  {
   "cell_type": "code",
   "execution_count": 1,
   "metadata": {},
   "outputs": [
    {
     "name": "stdout",
     "output_type": "stream",
     "text": [
      "Pairwise similarity and duplicate prediction:\n",
      "   id_1  id_2  name_similarity  location_similarity  predicted_duplicate\n",
      "0     1     2         0.271235                  0.0                    0\n",
      "1     1     3         0.000000                  0.0                    0\n",
      "2     1     4         0.000000                  0.0                    0\n",
      "3     2     3         0.000000                  0.0                    0\n",
      "4     2     4         0.000000                  0.0                    0\n",
      "5     3     4         0.000000                  0.0                    0\n"
     ]
    }
   ],
   "source": [
    "import pandas as pd\n",
    "from sklearn.feature_extraction.text import TfidfVectorizer\n",
    "from sklearn.metrics.pairwise import cosine_similarity\n",
    "from sklearn.linear_model import LogisticRegression\n",
    "from sklearn.model_selection import train_test_split\n",
    "import numpy as np\n",
    "\n",
    "# Sample data with possible duplicates\n",
    "data = {\n",
    "    'id': [1, 2, 3, 4],\n",
    "    'name': ['Apple Inc.', 'Apple Incorporated', 'Google LLC', 'Gooogle'],\n",
    "    'location': ['USA', 'United States', 'USA', 'U.S.']\n",
    "}\n",
    "\n",
    "df = pd.DataFrame(data)\n",
    "\n",
    "# Step 1: Generate pairs of records for comparison\n",
    "from itertools import combinations\n",
    "\n",
    "pairs = list(combinations(df.index, 2))\n",
    "records = []\n",
    "\n",
    "for i, j in pairs:\n",
    "    record1 = df.loc[i]\n",
    "    record2 = df.loc[j]\n",
    "    records.append({\n",
    "        'id_1': record1['id'],\n",
    "        'id_2': record2['id'],\n",
    "        'name_1': record1['name'],\n",
    "        'name_2': record2['name'],\n",
    "        'location_1': record1['location'],\n",
    "        'location_2': record2['location'],\n",
    "    })\n",
    "\n",
    "pairs_df = pd.DataFrame(records)\n",
    "\n",
    "# Step 2: Feature engineering (TF-IDF cosine similarity)\n",
    "def compute_similarity(col1, col2):\n",
    "    combined = col1 + col2\n",
    "    vectorizer = TfidfVectorizer().fit(combined)\n",
    "    vec1 = vectorizer.transform(col1)\n",
    "    vec2 = vectorizer.transform(col2)\n",
    "    similarity = [cosine_similarity(v1, v2)[0][0] for v1, v2 in zip(vec1, vec2)]\n",
    "    return similarity\n",
    "\n",
    "pairs_df['name_similarity'] = compute_similarity(pairs_df['name_1'], pairs_df['name_2'])\n",
    "pairs_df['location_similarity'] = compute_similarity(pairs_df['location_1'], pairs_df['location_2'])\n",
    "\n",
    "# Step 3: Dummy labels for supervised training (in real use, you'd label examples)\n",
    "# Let's say row 0 and 1 are duplicates; others are not\n",
    "pairs_df['is_duplicate'] = [1, 0, 0, 1, 0, 0]\n",
    "\n",
    "# Step 4: Train a model\n",
    "X = pairs_df[['name_similarity', 'location_similarity']]\n",
    "y = pairs_df['is_duplicate']\n",
    "\n",
    "X_train, X_test, y_train, y_test = train_test_split(X, y, random_state=42)\n",
    "\n",
    "model = LogisticRegression()\n",
    "model.fit(X_train, y_train)\n",
    "\n",
    "# Step 5: Predict duplicates\n",
    "pairs_df['predicted_duplicate'] = model.predict(X)\n",
    "\n",
    "# Display final output\n",
    "print(\"Pairwise similarity and duplicate prediction:\")\n",
    "print(pairs_df[['id_1', 'id_2', 'name_similarity', 'location_similarity', 'predicted_duplicate']])\n"
   ]
  }
 ],
 "metadata": {
  "kernelspec": {
   "display_name": "Python 3",
   "language": "python",
   "name": "python3"
  },
  "language_info": {
   "codemirror_mode": {
    "name": "ipython",
    "version": 3
   },
   "file_extension": ".py",
   "mimetype": "text/x-python",
   "name": "python",
   "nbconvert_exporter": "python",
   "pygments_lexer": "ipython3",
   "version": "3.10.12"
  }
 },
 "nbformat": 4,
 "nbformat_minor": 2
}
